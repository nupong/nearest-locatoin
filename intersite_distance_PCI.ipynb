{
 "cells": [
  {
   "cell_type": "code",
   "execution_count": 18,
   "id": "b5785da4",
   "metadata": {},
   "outputs": [],
   "source": [
    "import pandas as pd\n",
    "import numpy as np\n",
    "import os\n",
    "import time\n",
    "#from math import radians, cos, sin, asin, sqrt"
   ]
  },
  {
   "cell_type": "code",
   "execution_count": 19,
   "id": "66a8e064",
   "metadata": {},
   "outputs": [],
   "source": [
    "cell_file = r'C:\\Work\\NPO Team\\01 PTA Project\\99 Working\\07 Cell Info\\Consolidated Cell Info 20230512.xlsx'"
   ]
  },
  {
   "cell_type": "code",
   "execution_count": 22,
   "id": "8d4f8bbd",
   "metadata": {},
   "outputs": [],
   "source": [
    "# Load the data into a pandas DataFrame\n",
    "df = pd.read_excel(cell_file,sheet_name='cell_info',skiprows=0)\n",
    "\n",
    "# Create a new column to store the closest \"CellName\" and its distance\n",
    "df['Closest CellName'] = ''\n",
    "df['Closest Distance'] = ''\n",
    "df['Closest RF Cell Name'] = ''\n",
    "\n",
    "for i, row in df.iterrows():\n",
    "    # Filter the DataFrame to rows where \"new PCI\" value is the same and \"Bandwidth\" is the same and \"CellName\" is not the same\n",
    "    filtered = df[(df['new PCI'] == row['new PCI']) \n",
    "                  & (df['Bandwidth (MHz)'] == row['Bandwidth (MHz)']) \n",
    "                  & (df['RF Cell Name'] != row['RF Cell Name'])\n",
    "                 ]\n",
    "    closest_cellnaming = ''\n",
    "    closest_rfname = ''\n",
    "    closest_distance = float('inf')\n",
    "    \n",
    "    # Calculate the distance between the current row and the filtered rows\n",
    "    for j, f_row in filtered.iterrows():\n",
    "        #lat1, lon1 = radians(row['Lat']), radians(row['Long'])\n",
    "        #lat2, lon2 = radians(f_row['Lat']), radians(f_row['Long'])\n",
    "\n",
    "        #a = sin(dlat/2)**2 + cos(lat1) * cos(lat2) * sin(dlon/2)**2\n",
    "        #c = 2 * asin(sqrt(a))\n",
    "        \n",
    "        \n",
    "        lat1, lon1, lat2, lon2 = map(np.radians, [row['Lat'], row['Long'], f_row['Lat'], f_row['Long']])       \n",
    "        dlat = lat2 - lat1\n",
    "        dlon = lon2 - lon1\n",
    "        \n",
    "        a = np.sin(dlat/2)**2 + np.cos(lat1) * np.cos(lat2) * np.sin(dlon/2)**2\n",
    "        c = 2 * np.arcsin(np.sqrt(a))        \n",
    "        # Multiply by the radius of the earth in kilometers to get the distance in kilometers\n",
    "        distance = 6371 * c\n",
    "        \n",
    "        # Check if the distance is the closest so far\n",
    "        if distance < closest_distance:\n",
    "            closest_distance = distance\n",
    "            closest_cellnaming = f_row['Cell Naming Convention']\n",
    "            closest_rfname = f_row['RF Cell Name']\n",
    "        \n",
    "    # Update the Closest CellName and Closest Distance columns in the current row\n",
    "    df.at[i, 'Closest CellName'] = closest_cellnaming\n",
    "    df.at[i, 'Closest Distance'] = closest_distance\n",
    "    df.at[i, 'Closest RF Cell Name'] = closest_rfname\n",
    "\n",
    "# Save the DataFrame to a new Excel file\n",
    "df.to_excel('closest_pair.xlsx', index=False)\n"
   ]
  }
 ],
 "metadata": {
  "kernelspec": {
   "display_name": "Python 3 (ipykernel)",
   "language": "python",
   "name": "python3"
  },
  "language_info": {
   "codemirror_mode": {
    "name": "ipython",
    "version": 3
   },
   "file_extension": ".py",
   "mimetype": "text/x-python",
   "name": "python",
   "nbconvert_exporter": "python",
   "pygments_lexer": "ipython3",
   "version": "3.9.7"
  }
 },
 "nbformat": 4,
 "nbformat_minor": 5
}
