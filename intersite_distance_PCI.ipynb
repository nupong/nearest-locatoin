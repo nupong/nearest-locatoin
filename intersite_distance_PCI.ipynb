{
 "cells": [
  {
   "cell_type": "code",
   "execution_count": null,
   "id": "5338987e",
   "metadata": {},
   "outputs": [],
   "source": [
    "import pandas as pd\n",
    "import numpy as np\n",
    "import os\n",
    "import time\n",
    "from math import radians, cos, sin, asin, sqrt"
   ]
  },
  {
   "cell_type": "code",
   "execution_count": null,
   "id": "1c2f1d0f",
   "metadata": {},
   "outputs": [],
   "source": [
    "cell_file = r'C:\\Work\\NPO Team\\01 PTA Project\\99 Working\\07 Cell Info\\Consolidated Cell Info 20230504.xlsx'"
   ]
  },
  {
   "cell_type": "code",
   "execution_count": null,
   "id": "ac82fef2",
   "metadata": {},
   "outputs": [],
   "source": [
    "# Load the data into a pandas DataFrame\n",
    "df = pd.read_excel(cell_file)\n",
    "\n",
    "# Create a new column to store the closest \"CellName\" and its distance\n",
    "df['Closest CellName'] = ''\n",
    "df['Closest Distance'] = ''\n",
    "\n",
    "for i, row in df.iterrows():\n",
    "    # Filter the DataFrame to rows where \"new PCI\" value is the same and \"Bandwidth\" is the same and \"CellName\" is not the same\n",
    "    filtered = df[(df['new PCI'] == row['new PCI']) & (df['Bandwidth (MHz)'] == row['Bandwidth (MHz)']) & (df['Cell Naming Convention'] != row['Cell Naming Convention'])]\n",
    "    \n",
    "    closest_cellname = ''\n",
    "    closest_distance = float('inf')\n",
    "    \n",
    "    # Calculate the distance between the current row and the filtered rows\n",
    "    for j, f_row in filtered.iterrows():\n",
    "        lat1, lon1 = radians(row['Lat']), radians(row['Long'])\n",
    "        lat2, lon2 = radians(f_row['Lat']), radians(f_row['Long'])\n",
    "        \n",
    "        dlat = lat2 - lat1\n",
    "        dlon = lon2 - lon1\n",
    "        \n",
    "        a = sin(dlat/2)**2 + cos(lat1) * cos(lat2) * sin(dlon/2)**2\n",
    "        c = 2 * asin(sqrt(a))\n",
    "        \n",
    "        # Multiply by the radius of the earth in kilometers to get the distance in kilometers\n",
    "        distance = 6371 * c\n",
    "        \n",
    "        # Check if the distance is the closest so far\n",
    "        if distance < closest_distance:\n",
    "            closest_distance = distance\n",
    "            closest_cellname = f_row['Cell Naming Convention']\n",
    "        \n",
    "    # Update the Closest CellName and Closest Distance columns in the current row\n",
    "    df.at[i, 'Closest CellName'] = closest_cellname\n",
    "    df.at[i, 'Closest Distance'] = closest_distance\n",
    "\n",
    "# Save the DataFrame to a new Excel file\n",
    "df.to_excel('closest_pair.xlsx', index=False)\n"
   ]
  }
 ],
 "metadata": {
  "kernelspec": {
   "display_name": "Python 3 (ipykernel)",
   "language": "python",
   "name": "python3"
  },
  "language_info": {
   "codemirror_mode": {
    "name": "ipython",
    "version": 3
   },
   "file_extension": ".py",
   "mimetype": "text/x-python",
   "name": "python",
   "nbconvert_exporter": "python",
   "pygments_lexer": "ipython3",
   "version": "3.9.7"
  }
 },
 "nbformat": 4,
 "nbformat_minor": 5
}
